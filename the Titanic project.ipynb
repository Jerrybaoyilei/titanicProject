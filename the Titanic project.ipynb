{
 "cells": [
  {
   "cell_type": "markdown",
   "id": "1249565e",
   "metadata": {},
   "source": [
    "# 1. Imports"
   ]
  },
  {
   "cell_type": "code",
   "execution_count": 233,
   "id": "eb108a39",
   "metadata": {},
   "outputs": [],
   "source": [
    "import warnings\n",
    "warnings.filterwarnings('ignore')\n",
    "\n",
    "import numpy as np\n",
    "import pandas as pd\n",
    "import seaborn as sns\n",
    "\n",
    "sns.set(style = 'white',context = 'notebook', palette = 'muted')"
   ]
  },
  {
   "cell_type": "markdown",
   "id": "e147b511",
   "metadata": {},
   "source": [
    "# 2.1 Data"
   ]
  },
  {
   "cell_type": "code",
   "execution_count": 234,
   "id": "d200d06d",
   "metadata": {},
   "outputs": [],
   "source": [
    "train_file = '/Users/jerryyileibao/Downloads/train.csv'\n",
    "test_file = '/Users/jerryyileibao/Downloads/test.csv'\n",
    "\n",
    "train = pd.read_csv(train_file)\n",
    "test = pd.read_csv(test_file)"
   ]
  },
  {
   "cell_type": "markdown",
   "id": "d2aa7fda",
   "metadata": {},
   "source": [
    "# 2.2 Check shape"
   ]
  },
  {
   "cell_type": "code",
   "execution_count": 235,
   "id": "71c94cdf",
   "metadata": {},
   "outputs": [
    {
     "name": "stdout",
     "output_type": "stream",
     "text": [
      "train shape:  (891, 12)\n",
      "test shape:  (418, 11)\n"
     ]
    }
   ],
   "source": [
    "print('train shape: ',train.shape)\n",
    "print('test shape: ',test.shape)\n",
    "\n",
    "#difference in num of columns lie in 'Survived'"
   ]
  },
  {
   "cell_type": "markdown",
   "id": "150cd19d",
   "metadata": {},
   "source": [
    "# 2.3 Append into full dataset"
   ]
  },
  {
   "cell_type": "code",
   "execution_count": 236,
   "id": "706f0af8",
   "metadata": {},
   "outputs": [],
   "source": [
    "full = train.append(test,ignore_index=True)"
   ]
  },
  {
   "cell_type": "markdown",
   "id": "675887f7",
   "metadata": {},
   "source": [
    "# 3.1 Check info"
   ]
  },
  {
   "cell_type": "code",
   "execution_count": 237,
   "id": "e528bf04",
   "metadata": {},
   "outputs": [
    {
     "name": "stdout",
     "output_type": "stream",
     "text": [
      "<class 'pandas.core.frame.DataFrame'>\n",
      "RangeIndex: 1309 entries, 0 to 1308\n",
      "Data columns (total 12 columns):\n",
      " #   Column       Non-Null Count  Dtype  \n",
      "---  ------       --------------  -----  \n",
      " 0   PassengerId  1309 non-null   int64  \n",
      " 1   Survived     891 non-null    float64\n",
      " 2   Pclass       1309 non-null   int64  \n",
      " 3   Name         1309 non-null   object \n",
      " 4   Sex          1309 non-null   object \n",
      " 5   Age          1046 non-null   float64\n",
      " 6   SibSp        1309 non-null   int64  \n",
      " 7   Parch        1309 non-null   int64  \n",
      " 8   Ticket       1309 non-null   object \n",
      " 9   Fare         1308 non-null   float64\n",
      " 10  Cabin        295 non-null    object \n",
      " 11  Embarked     1307 non-null   object \n",
      "dtypes: float64(3), int64(4), object(5)\n",
      "memory usage: 122.8+ KB\n"
     ]
    }
   ],
   "source": [
    "full.info()\n",
    "\n",
    "# age missing some\n",
    "# fare missing 1\n",
    "# cabin missing a lot\n",
    "# embarked missing 2"
   ]
  },
  {
   "cell_type": "markdown",
   "id": "7a679705",
   "metadata": {},
   "source": [
    "# 3.2.1 Plot the survival rate vs Embarked location"
   ]
  },
  {
   "cell_type": "code",
   "execution_count": 238,
   "id": "1daada0d",
   "metadata": {},
   "outputs": [
    {
     "data": {
      "text/plain": [
       "<AxesSubplot:xlabel='Embarked', ylabel='Survived'>"
      ]
     },
     "execution_count": 238,
     "metadata": {},
     "output_type": "execute_result"
    },
    {
     "data": {
      "image/png": "[encoded data removed]",
      "text/plain": [
       "<Figure size 432x288 with 1 Axes>"
      ]
     },
     "metadata": {},
     "output_type": "display_data"
    }
   ],
   "source": [
    "sns.barplot(data=train,x='Embarked',y='Survived')"
   ]
  },
  {
   "cell_type": "markdown",
   "id": "f407f735",
   "metadata": {},
   "source": [
    "Those embarked from Cherbourg have the higest survival rate"
   ]
  },
  {
   "cell_type": "markdown",
   "id": "b5445dd8",
   "metadata": {},
   "source": [
    "# 3.2.2 Plot the survival rate vs parch (# of parent/children)"
   ]
  },
  {
   "cell_type": "code",
   "execution_count": 239,
   "id": "124f06fe",
   "metadata": {},
   "outputs": [
    {
     "data": {
      "text/plain": [
       "<AxesSubplot:xlabel='Parch', ylabel='Survived'>"
      ]
     },
     "execution_count": 239,
     "metadata": {},
     "output_type": "execute_result"
    },
    {
     "data": {
      "image/png": "[encoded data removed]",
      "text/plain": [
       "<Figure size 432x288 with 1 Axes>"
      ]
     },
     "metadata": {},
     "output_type": "display_data"
    }
   ],
   "source": [
    "sns.barplot(data=train,x='Parch',y='Survived')"
   ]
  },
  {
   "cell_type": "markdown",
   "id": "73312333",
   "metadata": {},
   "source": [
    "Parch=3 (3 parents/children) group has the highest survival rate"
   ]
  },
  {
   "cell_type": "markdown",
   "id": "54d2c010",
   "metadata": {},
   "source": [
    "# 3.2.3 Plot the survival rate vs SibSp (# of siblings / spouses)"
   ]
  },
  {
   "cell_type": "code",
   "execution_count": 240,
   "id": "57569436",
   "metadata": {},
   "outputs": [
    {
     "data": {
      "text/plain": [
       "<AxesSubplot:xlabel='SibSp', ylabel='Survived'>"
      ]
     },
     "execution_count": 240,
     "metadata": {},
     "output_type": "execute_result"
    },
    {
     "data": {
      "image/png": "[encoded data removed]",
      "text/plain": [
       "<Figure size 432x288 with 1 Axes>"
      ]
     },
     "metadata": {},
     "output_type": "display_data"
    }
   ],
   "source": [
    "sns.barplot(data = train, x = 'SibSp', y = 'Survived')"
   ]
  },
  {
   "cell_type": "markdown",
   "id": "2814c6b7",
   "metadata": {},
   "source": [
    "Those with 1 or 2 siblings/spouses have the highest survival rate"
   ]
  },
  {
   "cell_type": "markdown",
   "id": "928ce69c",
   "metadata": {},
   "source": [
    "# 3.2.4 Plot the survival rate vs Pclass"
   ]
  },
  {
   "cell_type": "markdown",
   "id": "48ce5d92",
   "metadata": {},
   "source": [
    "sns.barplot(data = train, x = 'Pclass', y = 'Survived')"
   ]
  },
  {
   "cell_type": "markdown",
   "id": "82093338",
   "metadata": {},
   "source": [
    "Class 1 has the highest survival rate"
   ]
  },
  {
   "cell_type": "markdown",
   "id": "bab004d2",
   "metadata": {},
   "source": [
    "# 3.2.5 Plot the survival rate vs gender"
   ]
  },
  {
   "cell_type": "code",
   "execution_count": 241,
   "id": "303da13e",
   "metadata": {},
   "outputs": [
    {
     "data": {
      "text/plain": [
       "<AxesSubplot:xlabel='Sex', ylabel='Survived'>"
      ]
     },
     "execution_count": 241,
     "metadata": {},
     "output_type": "execute_result"
    },
    {
     "data": {
      "image/png": "[encoded data removed]",
      "text/plain": [
       "<Figure size 432x288 with 1 Axes>"
      ]
     },
     "metadata": {},
     "output_type": "display_data"
    }
   ],
   "source": [
    "sns.barplot(data = train, x = 'Sex', y = 'Survived')"
   ]
  },
  {
   "cell_type": "markdown",
   "id": "1d926979",
   "metadata": {},
   "source": [
    "Female are more likely to survive"
   ]
  },
  {
   "cell_type": "markdown",
   "id": "80eacbe9",
   "metadata": {},
   "source": [
    "# 3.2.6 Plot the survival rate vs age"
   ]
  },
  {
   "cell_type": "code",
   "execution_count": 242,
   "id": "26f53936",
   "metadata": {},
   "outputs": [
    {
     "data": {
      "text/plain": [
       "<seaborn.axisgrid.FacetGrid at 0x7fe6c8446400>"
      ]
     },
     "execution_count": 242,
     "metadata": {},
     "output_type": "execute_result"
    },
    {
     "data": {
      "image/png": "[encoded data removed]",
      "text/plain": [
       "<Figure size 703.55x216 with 1 Axes>"
      ]
     },
     "metadata": {},
     "output_type": "display_data"
    }
   ],
   "source": [
    "ageFacet=sns.FacetGrid(train,hue='Survived',aspect=3)\n",
    "ageFacet.map(sns.kdeplot,'Age',shade=True)\n",
    "ageFacet.set(xlim=(0,train['Age'].max()))\n",
    "ageFacet.add_legend()"
   ]
  },
  {
   "cell_type": "markdown",
   "id": "4d08c2e5",
   "metadata": {},
   "source": [
    "# 3.2.7 Plot the survival rate vs fare"
   ]
  },
  {
   "cell_type": "code",
   "execution_count": 243,
   "id": "4a343797",
   "metadata": {},
   "outputs": [
    {
     "data": {
      "text/plain": [
       "<seaborn.axisgrid.FacetGrid at 0x7fe72a7b5fd0>"
      ]
     },
     "execution_count": 243,
     "metadata": {},
     "output_type": "execute_result"
    },
    {
     "data": {
      "image/png": "[encoded data removed]",
      "text/plain": [
       "<Figure size 703.55x216 with 1 Axes>"
      ]
     },
     "metadata": {},
     "output_type": "display_data"
    }
   ],
   "source": [
    "fareFacet = sns.FacetGrid(train,hue = 'Survived', aspect = 3)\n",
    "fareFacet.map(sns.kdeplot,'Fare',shade = True)\n",
    "fareFacet.set(xlim=(0,150))\n",
    "fareFacet.add_legend()"
   ]
  },
  {
   "cell_type": "code",
   "execution_count": 244,
   "id": "2e668769",
   "metadata": {},
   "outputs": [],
   "source": [
    "## Check the distribution of fare"
   ]
  },
  {
   "cell_type": "code",
   "execution_count": 245,
   "id": "d47a6cbb",
   "metadata": {},
   "outputs": [
    {
     "data": {
      "text/plain": [
       "<matplotlib.legend.Legend at 0x7fe6b8505880>"
      ]
     },
     "execution_count": 245,
     "metadata": {},
     "output_type": "execute_result"
    },
    {
     "data": {
      "image/png": "[encoded data removed]",
      "text/plain": [
       "<Figure size 432x288 with 1 Axes>"
      ]
     },
     "metadata": {},
     "output_type": "display_data"
    }
   ],
   "source": [
    "fare = sns.distplot(full['Fare'][full['Fare'].notnull()],label = 'skewness:%.2f'%(full['Fare'].skew()))\n",
    "fare.legend()"
   ]
  },
  {
   "cell_type": "code",
   "execution_count": 246,
   "id": "7c39d319",
   "metadata": {},
   "outputs": [],
   "source": [
    "## Since fare is very skewed to the right, we use log value to solve the problem of uneven distribution"
   ]
  },
  {
   "cell_type": "code",
   "execution_count": 247,
   "id": "7f525435",
   "metadata": {},
   "outputs": [],
   "source": [
    "full['Fare'] = full['Fare'].map(lambda x: np.log(x) if x>0 else 0)"
   ]
  },
  {
   "cell_type": "markdown",
   "id": "9d8a4c32",
   "metadata": {},
   "source": [
    "# 4. Pre-processing"
   ]
  },
  {
   "cell_type": "markdown",
   "id": "d3d80c16",
   "metadata": {},
   "source": [
    "# 4.1 Data cleaning"
   ]
  },
  {
   "cell_type": "markdown",
   "id": "252b91f0",
   "metadata": {},
   "source": [
    "## 4.1.1 Fill Cabin null value with NaN"
   ]
  },
  {
   "cell_type": "code",
   "execution_count": 251,
   "id": "354538ea",
   "metadata": {},
   "outputs": [],
   "source": [
    "full['Cabin']=full['Cabin'].fillna('U')"
   ]
  },
  {
   "cell_type": "code",
   "execution_count": 252,
   "id": "533ed42e",
   "metadata": {},
   "outputs": [
    {
     "data": {
      "text/plain": [
       "0       U\n",
       "1     C85\n",
       "2       U\n",
       "3    C123\n",
       "4       U\n",
       "Name: Cabin, dtype: object"
      ]
     },
     "execution_count": 252,
     "metadata": {},
     "output_type": "execute_result"
    }
   ],
   "source": [
    "full['Cabin'].head()"
   ]
  },
  {
   "cell_type": "markdown",
   "id": "e86152ee",
   "metadata": {},
   "source": [
    "## 4.1.2 Fill Embarked null value "
   ]
  },
  {
   "cell_type": "code",
   "execution_count": 254,
   "id": "07ed071f",
   "metadata": {},
   "outputs": [
    {
     "data": {
      "text/html": [
       "<div>\n",
       "<style scoped>\n",
       "    .dataframe tbody tr th:only-of-type {\n",
       "        vertical-align: middle;\n",
       "    }\n",
       "\n",
       "    .dataframe tbody tr th {\n",
       "        vertical-align: top;\n",
       "    }\n",
       "\n",
       "    .dataframe thead th {\n",
       "        text-align: right;\n",
       "    }\n",
       "</style>\n",
       "<table border=\"1\" class=\"dataframe\">\n",
       "  <thead>\n",
       "    <tr style=\"text-align: right;\">\n",
       "      <th></th>\n",
       "      <th>PassengerId</th>\n",
       "      <th>Survived</th>\n",
       "      <th>Pclass</th>\n",
       "      <th>Name</th>\n",
       "      <th>Sex</th>\n",
       "      <th>Age</th>\n",
       "      <th>SibSp</th>\n",
       "      <th>Parch</th>\n",
       "      <th>Ticket</th>\n",
       "      <th>Fare</th>\n",
       "      <th>Cabin</th>\n",
       "      <th>Embarked</th>\n",
       "    </tr>\n",
       "  </thead>\n",
       "  <tbody>\n",
       "    <tr>\n",
       "      <th>61</th>\n",
       "      <td>62</td>\n",
       "      <td>1.0</td>\n",
       "      <td>1</td>\n",
       "      <td>Icard, Miss. Amelie</td>\n",
       "      <td>female</td>\n",
       "      <td>38.0</td>\n",
       "      <td>0</td>\n",
       "      <td>0</td>\n",
       "      <td>113572</td>\n",
       "      <td>4.382027</td>\n",
       "      <td>B28</td>\n",
       "      <td>NaN</td>\n",
       "    </tr>\n",
       "    <tr>\n",
       "      <th>829</th>\n",
       "      <td>830</td>\n",
       "      <td>1.0</td>\n",
       "      <td>1</td>\n",
       "      <td>Stone, Mrs. George Nelson (Martha Evelyn)</td>\n",
       "      <td>female</td>\n",
       "      <td>62.0</td>\n",
       "      <td>0</td>\n",
       "      <td>0</td>\n",
       "      <td>113572</td>\n",
       "      <td>4.382027</td>\n",
       "      <td>B28</td>\n",
       "      <td>NaN</td>\n",
       "    </tr>\n",
       "  </tbody>\n",
       "</table>\n",
       "</div>"
      ],
      "text/plain": [
       "     PassengerId  Survived  Pclass                                       Name  \\\n",
       "61            62       1.0       1                        Icard, Miss. Amelie   \n",
       "829          830       1.0       1  Stone, Mrs. George Nelson (Martha Evelyn)   \n",
       "\n",
       "        Sex   Age  SibSp  Parch  Ticket      Fare Cabin Embarked  \n",
       "61   female  38.0      0      0  113572  4.382027   B28      NaN  \n",
       "829  female  62.0      0      0  113572  4.382027   B28      NaN  "
      ]
     },
     "execution_count": 254,
     "metadata": {},
     "output_type": "execute_result"
    }
   ],
   "source": [
    "full[full['Embarked'].isnull()]"
   ]
  },
  {
   "cell_type": "code",
   "execution_count": 255,
   "id": "22073741",
   "metadata": {},
   "outputs": [
    {
     "data": {
      "text/plain": [
       "S    914\n",
       "C    270\n",
       "Q    123\n",
       "Name: Embarked, dtype: int64"
      ]
     },
     "execution_count": 255,
     "metadata": {},
     "output_type": "execute_result"
    }
   ],
   "source": [
    "full['Embarked'].value_counts()"
   ]
  },
  {
   "cell_type": "markdown",
   "id": "2a8af4e5",
   "metadata": {},
   "source": [
    "Since most people embarked from Southampton, we fill these two entries with Southampton"
   ]
  },
  {
   "cell_type": "code",
   "execution_count": 256,
   "id": "ada65c80",
   "metadata": {},
   "outputs": [],
   "source": [
    "full['Embarked']=full['Embarked'].fillna('S')"
   ]
  },
  {
   "cell_type": "markdown",
   "id": "7829a6a3",
   "metadata": {},
   "source": [
    "## 4.1.3 Fill Fare null value"
   ]
  },
  {
   "cell_type": "code",
   "execution_count": 258,
   "id": "ce998c44",
   "metadata": {},
   "outputs": [
    {
     "data": {
      "text/html": [
       "<div>\n",
       "<style scoped>\n",
       "    .dataframe tbody tr th:only-of-type {\n",
       "        vertical-align: middle;\n",
       "    }\n",
       "\n",
       "    .dataframe tbody tr th {\n",
       "        vertical-align: top;\n",
       "    }\n",
       "\n",
       "    .dataframe thead th {\n",
       "        text-align: right;\n",
       "    }\n",
       "</style>\n",
       "<table border=\"1\" class=\"dataframe\">\n",
       "  <thead>\n",
       "    <tr style=\"text-align: right;\">\n",
       "      <th></th>\n",
       "      <th>PassengerId</th>\n",
       "      <th>Survived</th>\n",
       "      <th>Pclass</th>\n",
       "      <th>Name</th>\n",
       "      <th>Sex</th>\n",
       "      <th>Age</th>\n",
       "      <th>SibSp</th>\n",
       "      <th>Parch</th>\n",
       "      <th>Ticket</th>\n",
       "      <th>Fare</th>\n",
       "      <th>Cabin</th>\n",
       "      <th>Embarked</th>\n",
       "    </tr>\n",
       "  </thead>\n",
       "  <tbody>\n",
       "    <tr>\n",
       "      <th>179</th>\n",
       "      <td>180</td>\n",
       "      <td>0.0</td>\n",
       "      <td>3</td>\n",
       "      <td>Leonard, Mr. Lionel</td>\n",
       "      <td>male</td>\n",
       "      <td>36.0</td>\n",
       "      <td>0</td>\n",
       "      <td>0</td>\n",
       "      <td>LINE</td>\n",
       "      <td>0.0</td>\n",
       "      <td>U</td>\n",
       "      <td>S</td>\n",
       "    </tr>\n",
       "    <tr>\n",
       "      <th>263</th>\n",
       "      <td>264</td>\n",
       "      <td>0.0</td>\n",
       "      <td>1</td>\n",
       "      <td>Harrison, Mr. William</td>\n",
       "      <td>male</td>\n",
       "      <td>40.0</td>\n",
       "      <td>0</td>\n",
       "      <td>0</td>\n",
       "      <td>112059</td>\n",
       "      <td>0.0</td>\n",
       "      <td>B94</td>\n",
       "      <td>S</td>\n",
       "    </tr>\n",
       "    <tr>\n",
       "      <th>271</th>\n",
       "      <td>272</td>\n",
       "      <td>1.0</td>\n",
       "      <td>3</td>\n",
       "      <td>Tornquist, Mr. William Henry</td>\n",
       "      <td>male</td>\n",
       "      <td>25.0</td>\n",
       "      <td>0</td>\n",
       "      <td>0</td>\n",
       "      <td>LINE</td>\n",
       "      <td>0.0</td>\n",
       "      <td>U</td>\n",
       "      <td>S</td>\n",
       "    </tr>\n",
       "    <tr>\n",
       "      <th>277</th>\n",
       "      <td>278</td>\n",
       "      <td>0.0</td>\n",
       "      <td>2</td>\n",
       "      <td>Parkes, Mr. Francis \"Frank\"</td>\n",
       "      <td>male</td>\n",
       "      <td>NaN</td>\n",
       "      <td>0</td>\n",
       "      <td>0</td>\n",
       "      <td>239853</td>\n",
       "      <td>0.0</td>\n",
       "      <td>U</td>\n",
       "      <td>S</td>\n",
       "    </tr>\n",
       "    <tr>\n",
       "      <th>302</th>\n",
       "      <td>303</td>\n",
       "      <td>0.0</td>\n",
       "      <td>3</td>\n",
       "      <td>Johnson, Mr. William Cahoone Jr</td>\n",
       "      <td>male</td>\n",
       "      <td>19.0</td>\n",
       "      <td>0</td>\n",
       "      <td>0</td>\n",
       "      <td>LINE</td>\n",
       "      <td>0.0</td>\n",
       "      <td>U</td>\n",
       "      <td>S</td>\n",
       "    </tr>\n",
       "    <tr>\n",
       "      <th>413</th>\n",
       "      <td>414</td>\n",
       "      <td>0.0</td>\n",
       "      <td>2</td>\n",
       "      <td>Cunningham, Mr. Alfred Fleming</td>\n",
       "      <td>male</td>\n",
       "      <td>NaN</td>\n",
       "      <td>0</td>\n",
       "      <td>0</td>\n",
       "      <td>239853</td>\n",
       "      <td>0.0</td>\n",
       "      <td>U</td>\n",
       "      <td>S</td>\n",
       "    </tr>\n",
       "    <tr>\n",
       "      <th>466</th>\n",
       "      <td>467</td>\n",
       "      <td>0.0</td>\n",
       "      <td>2</td>\n",
       "      <td>Campbell, Mr. William</td>\n",
       "      <td>male</td>\n",
       "      <td>NaN</td>\n",
       "      <td>0</td>\n",
       "      <td>0</td>\n",
       "      <td>239853</td>\n",
       "      <td>0.0</td>\n",
       "      <td>U</td>\n",
       "      <td>S</td>\n",
       "    </tr>\n",
       "    <tr>\n",
       "      <th>481</th>\n",
       "      <td>482</td>\n",
       "      <td>0.0</td>\n",
       "      <td>2</td>\n",
       "      <td>Frost, Mr. Anthony Wood \"Archie\"</td>\n",
       "      <td>male</td>\n",
       "      <td>NaN</td>\n",
       "      <td>0</td>\n",
       "      <td>0</td>\n",
       "      <td>239854</td>\n",
       "      <td>0.0</td>\n",
       "      <td>U</td>\n",
       "      <td>S</td>\n",
       "    </tr>\n",
       "    <tr>\n",
       "      <th>597</th>\n",
       "      <td>598</td>\n",
       "      <td>0.0</td>\n",
       "      <td>3</td>\n",
       "      <td>Johnson, Mr. Alfred</td>\n",
       "      <td>male</td>\n",
       "      <td>49.0</td>\n",
       "      <td>0</td>\n",
       "      <td>0</td>\n",
       "      <td>LINE</td>\n",
       "      <td>0.0</td>\n",
       "      <td>U</td>\n",
       "      <td>S</td>\n",
       "    </tr>\n",
       "    <tr>\n",
       "      <th>633</th>\n",
       "      <td>634</td>\n",
       "      <td>0.0</td>\n",
       "      <td>1</td>\n",
       "      <td>Parr, Mr. William Henry Marsh</td>\n",
       "      <td>male</td>\n",
       "      <td>NaN</td>\n",
       "      <td>0</td>\n",
       "      <td>0</td>\n",
       "      <td>112052</td>\n",
       "      <td>0.0</td>\n",
       "      <td>U</td>\n",
       "      <td>S</td>\n",
       "    </tr>\n",
       "    <tr>\n",
       "      <th>674</th>\n",
       "      <td>675</td>\n",
       "      <td>0.0</td>\n",
       "      <td>2</td>\n",
       "      <td>Watson, Mr. Ennis Hastings</td>\n",
       "      <td>male</td>\n",
       "      <td>NaN</td>\n",
       "      <td>0</td>\n",
       "      <td>0</td>\n",
       "      <td>239856</td>\n",
       "      <td>0.0</td>\n",
       "      <td>U</td>\n",
       "      <td>S</td>\n",
       "    </tr>\n",
       "    <tr>\n",
       "      <th>732</th>\n",
       "      <td>733</td>\n",
       "      <td>0.0</td>\n",
       "      <td>2</td>\n",
       "      <td>Knight, Mr. Robert J</td>\n",
       "      <td>male</td>\n",
       "      <td>NaN</td>\n",
       "      <td>0</td>\n",
       "      <td>0</td>\n",
       "      <td>239855</td>\n",
       "      <td>0.0</td>\n",
       "      <td>U</td>\n",
       "      <td>S</td>\n",
       "    </tr>\n",
       "    <tr>\n",
       "      <th>806</th>\n",
       "      <td>807</td>\n",
       "      <td>0.0</td>\n",
       "      <td>1</td>\n",
       "      <td>Andrews, Mr. Thomas Jr</td>\n",
       "      <td>male</td>\n",
       "      <td>39.0</td>\n",
       "      <td>0</td>\n",
       "      <td>0</td>\n",
       "      <td>112050</td>\n",
       "      <td>0.0</td>\n",
       "      <td>A36</td>\n",
       "      <td>S</td>\n",
       "    </tr>\n",
       "    <tr>\n",
       "      <th>815</th>\n",
       "      <td>816</td>\n",
       "      <td>0.0</td>\n",
       "      <td>1</td>\n",
       "      <td>Fry, Mr. Richard</td>\n",
       "      <td>male</td>\n",
       "      <td>NaN</td>\n",
       "      <td>0</td>\n",
       "      <td>0</td>\n",
       "      <td>112058</td>\n",
       "      <td>0.0</td>\n",
       "      <td>B102</td>\n",
       "      <td>S</td>\n",
       "    </tr>\n",
       "    <tr>\n",
       "      <th>822</th>\n",
       "      <td>823</td>\n",
       "      <td>0.0</td>\n",
       "      <td>1</td>\n",
       "      <td>Reuchlin, Jonkheer. John George</td>\n",
       "      <td>male</td>\n",
       "      <td>38.0</td>\n",
       "      <td>0</td>\n",
       "      <td>0</td>\n",
       "      <td>19972</td>\n",
       "      <td>0.0</td>\n",
       "      <td>U</td>\n",
       "      <td>S</td>\n",
       "    </tr>\n",
       "    <tr>\n",
       "      <th>1043</th>\n",
       "      <td>1044</td>\n",
       "      <td>NaN</td>\n",
       "      <td>3</td>\n",
       "      <td>Storey, Mr. Thomas</td>\n",
       "      <td>male</td>\n",
       "      <td>60.5</td>\n",
       "      <td>0</td>\n",
       "      <td>0</td>\n",
       "      <td>3701</td>\n",
       "      <td>0.0</td>\n",
       "      <td>U</td>\n",
       "      <td>S</td>\n",
       "    </tr>\n",
       "    <tr>\n",
       "      <th>1157</th>\n",
       "      <td>1158</td>\n",
       "      <td>NaN</td>\n",
       "      <td>1</td>\n",
       "      <td>Chisholm, Mr. Roderick Robert Crispin</td>\n",
       "      <td>male</td>\n",
       "      <td>NaN</td>\n",
       "      <td>0</td>\n",
       "      <td>0</td>\n",
       "      <td>112051</td>\n",
       "      <td>0.0</td>\n",
       "      <td>U</td>\n",
       "      <td>S</td>\n",
       "    </tr>\n",
       "    <tr>\n",
       "      <th>1263</th>\n",
       "      <td>1264</td>\n",
       "      <td>NaN</td>\n",
       "      <td>1</td>\n",
       "      <td>Ismay, Mr. Joseph Bruce</td>\n",
       "      <td>male</td>\n",
       "      <td>49.0</td>\n",
       "      <td>0</td>\n",
       "      <td>0</td>\n",
       "      <td>112058</td>\n",
       "      <td>0.0</td>\n",
       "      <td>B52 B54 B56</td>\n",
       "      <td>S</td>\n",
       "    </tr>\n",
       "  </tbody>\n",
       "</table>\n",
       "</div>"
      ],
      "text/plain": [
       "      PassengerId  Survived  Pclass                                   Name  \\\n",
       "179           180       0.0       3                    Leonard, Mr. Lionel   \n",
       "263           264       0.0       1                  Harrison, Mr. William   \n",
       "271           272       1.0       3           Tornquist, Mr. William Henry   \n",
       "277           278       0.0       2            Parkes, Mr. Francis \"Frank\"   \n",
       "302           303       0.0       3        Johnson, Mr. William Cahoone Jr   \n",
       "413           414       0.0       2         Cunningham, Mr. Alfred Fleming   \n",
       "466           467       0.0       2                  Campbell, Mr. William   \n",
       "481           482       0.0       2       Frost, Mr. Anthony Wood \"Archie\"   \n",
       "597           598       0.0       3                    Johnson, Mr. Alfred   \n",
       "633           634       0.0       1          Parr, Mr. William Henry Marsh   \n",
       "674           675       0.0       2             Watson, Mr. Ennis Hastings   \n",
       "732           733       0.0       2                   Knight, Mr. Robert J   \n",
       "806           807       0.0       1                 Andrews, Mr. Thomas Jr   \n",
       "815           816       0.0       1                       Fry, Mr. Richard   \n",
       "822           823       0.0       1        Reuchlin, Jonkheer. John George   \n",
       "1043         1044       NaN       3                     Storey, Mr. Thomas   \n",
       "1157         1158       NaN       1  Chisholm, Mr. Roderick Robert Crispin   \n",
       "1263         1264       NaN       1                Ismay, Mr. Joseph Bruce   \n",
       "\n",
       "       Sex   Age  SibSp  Parch  Ticket  Fare        Cabin Embarked  \n",
       "179   male  36.0      0      0    LINE   0.0            U        S  \n",
       "263   male  40.0      0      0  112059   0.0          B94        S  \n",
       "271   male  25.0      0      0    LINE   0.0            U        S  \n",
       "277   male   NaN      0      0  239853   0.0            U        S  \n",
       "302   male  19.0      0      0    LINE   0.0            U        S  \n",
       "413   male   NaN      0      0  239853   0.0            U        S  \n",
       "466   male   NaN      0      0  239853   0.0            U        S  \n",
       "481   male   NaN      0      0  239854   0.0            U        S  \n",
       "597   male  49.0      0      0    LINE   0.0            U        S  \n",
       "633   male   NaN      0      0  112052   0.0            U        S  \n",
       "674   male   NaN      0      0  239856   0.0            U        S  \n",
       "732   male   NaN      0      0  239855   0.0            U        S  \n",
       "806   male  39.0      0      0  112050   0.0          A36        S  \n",
       "815   male   NaN      0      0  112058   0.0         B102        S  \n",
       "822   male  38.0      0      0   19972   0.0            U        S  \n",
       "1043  male  60.5      0      0    3701   0.0            U        S  \n",
       "1157  male   NaN      0      0  112051   0.0            U        S  \n",
       "1263  male  49.0      0      0  112058   0.0  B52 B54 B56        S  "
      ]
     },
     "execution_count": 258,
     "metadata": {},
     "output_type": "execute_result"
    }
   ],
   "source": [
    "full[full['Fare'] == min(full['Fare'])]"
   ]
  },
  {
   "cell_type": "code",
   "execution_count": 259,
   "id": "c5752b12",
   "metadata": {},
   "outputs": [],
   "source": [
    "full[(full['Fare']==0)&(full['Pclass']==3)]['Fare'] = full[(full['Pclass']==3)&(full['Embarked']=='S')&(full['Fare']!=0)]['Fare'].mean()\n",
    "full[(full['Fare']==0)&(full['Pclass']==2)]['Fare'] = full[(full['Pclass']==2)&(full['Embarked']=='S')&(full['Fare']!=0)]['Fare'].mean()\n",
    "full[(full['Fare']==0)&(full['Pclass']==1)]['Fare'] = full[(full['Pclass']==1)&(full['Embarked']=='S')&(full['Fare']!=0)]['Fare'].mean()"
   ]
  }
 ],
 "metadata": {
  "kernelspec": {
   "display_name": "Python 3",
   "language": "python",
   "name": "python3"
  },
  "language_info": {
   "codemirror_mode": {
    "name": "ipython",
    "version": 3
   },
   "file_extension": ".py",
   "mimetype": "text/x-python",
   "name": "python",
   "nbconvert_exporter": "python",
   "pygments_lexer": "ipython3",
   "version": "3.8.8"
  }
 },
 "nbformat": 4,
 "nbformat_minor": 5
}
