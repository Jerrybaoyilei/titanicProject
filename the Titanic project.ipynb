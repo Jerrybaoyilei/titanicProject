{
 "cells": [
  {
   "cell_type": "markdown",
   "id": "1249565e",
   "metadata": {},
   "source": [
    "# 1. Imports"
   ]
  },
  {
   "cell_type": "code",
   "execution_count": 3,
   "id": "eb108a39",
   "metadata": {},
   "outputs": [],
   "source": [
    "import warnings\n",
    "warnings.filterwarnings('ignore')\n",
    "\n",
    "import numpy as np\n",
    "import pandas as pd\n",
    "import seaborn as sns\n",
    "\n",
    "sns.set(style = 'white',context = 'notebook', palette = 'muted')"
   ]
  },
  {
   "cell_type": "markdown",
   "id": "e147b511",
   "metadata": {},
   "source": [
    "# 2.1 Data"
   ]
  },
  {
   "cell_type": "code",
   "execution_count": 4,
   "id": "d200d06d",
   "metadata": {},
   "outputs": [
    {
     "ename": "FileNotFoundError",
     "evalue": "[Errno 2] No such file or directory: '/Users/jerryyileibao/Downloads/train.csv'",
     "output_type": "error",
     "traceback": [
      "\u001b[0;31m---------------------------------------------------------------------------\u001b[0m",
      "\u001b[0;31mFileNotFoundError\u001b[0m                         Traceback (most recent call last)",
      "\u001b[0;32m<ipython-input-4-1392b3ca941f>\u001b[0m in \u001b[0;36m<module>\u001b[0;34m\u001b[0m\n\u001b[1;32m      2\u001b[0m \u001b[0mtest_file\u001b[0m \u001b[0;34m=\u001b[0m \u001b[0;34m'/Users/jerryyileibao/Downloads/test.csv'\u001b[0m\u001b[0;34m\u001b[0m\u001b[0;34m\u001b[0m\u001b[0m\n\u001b[1;32m      3\u001b[0m \u001b[0;34m\u001b[0m\u001b[0m\n\u001b[0;32m----> 4\u001b[0;31m \u001b[0mtrain\u001b[0m \u001b[0;34m=\u001b[0m \u001b[0mpd\u001b[0m\u001b[0;34m.\u001b[0m\u001b[0mread_csv\u001b[0m\u001b[0;34m(\u001b[0m\u001b[0mtrain_file\u001b[0m\u001b[0;34m)\u001b[0m\u001b[0;34m\u001b[0m\u001b[0;34m\u001b[0m\u001b[0m\n\u001b[0m\u001b[1;32m      5\u001b[0m \u001b[0mtest\u001b[0m \u001b[0;34m=\u001b[0m \u001b[0mpd\u001b[0m\u001b[0;34m.\u001b[0m\u001b[0mread_csv\u001b[0m\u001b[0;34m(\u001b[0m\u001b[0mtest_file\u001b[0m\u001b[0;34m)\u001b[0m\u001b[0;34m\u001b[0m\u001b[0;34m\u001b[0m\u001b[0m\n",
      "\u001b[0;32m/opt/anaconda3/lib/python3.8/site-packages/pandas/util/_decorators.py\u001b[0m in \u001b[0;36mwrapper\u001b[0;34m(*args, **kwargs)\u001b[0m\n\u001b[1;32m    309\u001b[0m                     \u001b[0mstacklevel\u001b[0m\u001b[0;34m=\u001b[0m\u001b[0mstacklevel\u001b[0m\u001b[0;34m,\u001b[0m\u001b[0;34m\u001b[0m\u001b[0;34m\u001b[0m\u001b[0m\n\u001b[1;32m    310\u001b[0m                 )\n\u001b[0;32m--> 311\u001b[0;31m             \u001b[0;32mreturn\u001b[0m \u001b[0mfunc\u001b[0m\u001b[0;34m(\u001b[0m\u001b[0;34m*\u001b[0m\u001b[0margs\u001b[0m\u001b[0;34m,\u001b[0m \u001b[0;34m**\u001b[0m\u001b[0mkwargs\u001b[0m\u001b[0;34m)\u001b[0m\u001b[0;34m\u001b[0m\u001b[0;34m\u001b[0m\u001b[0m\n\u001b[0m\u001b[1;32m    312\u001b[0m \u001b[0;34m\u001b[0m\u001b[0m\n\u001b[1;32m    313\u001b[0m         \u001b[0;32mreturn\u001b[0m \u001b[0mwrapper\u001b[0m\u001b[0;34m\u001b[0m\u001b[0;34m\u001b[0m\u001b[0m\n",
      "\u001b[0;32m/opt/anaconda3/lib/python3.8/site-packages/pandas/io/parsers/readers.py\u001b[0m in \u001b[0;36mread_csv\u001b[0;34m(filepath_or_buffer, sep, delimiter, header, names, index_col, usecols, squeeze, prefix, mangle_dupe_cols, dtype, engine, converters, true_values, false_values, skipinitialspace, skiprows, skipfooter, nrows, na_values, keep_default_na, na_filter, verbose, skip_blank_lines, parse_dates, infer_datetime_format, keep_date_col, date_parser, dayfirst, cache_dates, iterator, chunksize, compression, thousands, decimal, lineterminator, quotechar, quoting, doublequote, escapechar, comment, encoding, encoding_errors, dialect, error_bad_lines, warn_bad_lines, on_bad_lines, delim_whitespace, low_memory, memory_map, float_precision, storage_options)\u001b[0m\n\u001b[1;32m    584\u001b[0m     \u001b[0mkwds\u001b[0m\u001b[0;34m.\u001b[0m\u001b[0mupdate\u001b[0m\u001b[0;34m(\u001b[0m\u001b[0mkwds_defaults\u001b[0m\u001b[0;34m)\u001b[0m\u001b[0;34m\u001b[0m\u001b[0;34m\u001b[0m\u001b[0m\n\u001b[1;32m    585\u001b[0m \u001b[0;34m\u001b[0m\u001b[0m\n\u001b[0;32m--> 586\u001b[0;31m     \u001b[0;32mreturn\u001b[0m \u001b[0m_read\u001b[0m\u001b[0;34m(\u001b[0m\u001b[0mfilepath_or_buffer\u001b[0m\u001b[0;34m,\u001b[0m \u001b[0mkwds\u001b[0m\u001b[0;34m)\u001b[0m\u001b[0;34m\u001b[0m\u001b[0;34m\u001b[0m\u001b[0m\n\u001b[0m\u001b[1;32m    587\u001b[0m \u001b[0;34m\u001b[0m\u001b[0m\n\u001b[1;32m    588\u001b[0m \u001b[0;34m\u001b[0m\u001b[0m\n",
      "\u001b[0;32m/opt/anaconda3/lib/python3.8/site-packages/pandas/io/parsers/readers.py\u001b[0m in \u001b[0;36m_read\u001b[0;34m(filepath_or_buffer, kwds)\u001b[0m\n\u001b[1;32m    480\u001b[0m \u001b[0;34m\u001b[0m\u001b[0m\n\u001b[1;32m    481\u001b[0m     \u001b[0;31m# Create the parser.\u001b[0m\u001b[0;34m\u001b[0m\u001b[0;34m\u001b[0m\u001b[0;34m\u001b[0m\u001b[0m\n\u001b[0;32m--> 482\u001b[0;31m     \u001b[0mparser\u001b[0m \u001b[0;34m=\u001b[0m \u001b[0mTextFileReader\u001b[0m\u001b[0;34m(\u001b[0m\u001b[0mfilepath_or_buffer\u001b[0m\u001b[0;34m,\u001b[0m \u001b[0;34m**\u001b[0m\u001b[0mkwds\u001b[0m\u001b[0;34m)\u001b[0m\u001b[0;34m\u001b[0m\u001b[0;34m\u001b[0m\u001b[0m\n\u001b[0m\u001b[1;32m    483\u001b[0m \u001b[0;34m\u001b[0m\u001b[0m\n\u001b[1;32m    484\u001b[0m     \u001b[0;32mif\u001b[0m \u001b[0mchunksize\u001b[0m \u001b[0;32mor\u001b[0m \u001b[0miterator\u001b[0m\u001b[0;34m:\u001b[0m\u001b[0;34m\u001b[0m\u001b[0;34m\u001b[0m\u001b[0m\n",
      "\u001b[0;32m/opt/anaconda3/lib/python3.8/site-packages/pandas/io/parsers/readers.py\u001b[0m in \u001b[0;36m__init__\u001b[0;34m(self, f, engine, **kwds)\u001b[0m\n\u001b[1;32m    809\u001b[0m             \u001b[0mself\u001b[0m\u001b[0;34m.\u001b[0m\u001b[0moptions\u001b[0m\u001b[0;34m[\u001b[0m\u001b[0;34m\"has_index_names\"\u001b[0m\u001b[0;34m]\u001b[0m \u001b[0;34m=\u001b[0m \u001b[0mkwds\u001b[0m\u001b[0;34m[\u001b[0m\u001b[0;34m\"has_index_names\"\u001b[0m\u001b[0;34m]\u001b[0m\u001b[0;34m\u001b[0m\u001b[0;34m\u001b[0m\u001b[0m\n\u001b[1;32m    810\u001b[0m \u001b[0;34m\u001b[0m\u001b[0m\n\u001b[0;32m--> 811\u001b[0;31m         \u001b[0mself\u001b[0m\u001b[0;34m.\u001b[0m\u001b[0m_engine\u001b[0m \u001b[0;34m=\u001b[0m \u001b[0mself\u001b[0m\u001b[0;34m.\u001b[0m\u001b[0m_make_engine\u001b[0m\u001b[0;34m(\u001b[0m\u001b[0mself\u001b[0m\u001b[0;34m.\u001b[0m\u001b[0mengine\u001b[0m\u001b[0;34m)\u001b[0m\u001b[0;34m\u001b[0m\u001b[0;34m\u001b[0m\u001b[0m\n\u001b[0m\u001b[1;32m    812\u001b[0m \u001b[0;34m\u001b[0m\u001b[0m\n\u001b[1;32m    813\u001b[0m     \u001b[0;32mdef\u001b[0m \u001b[0mclose\u001b[0m\u001b[0;34m(\u001b[0m\u001b[0mself\u001b[0m\u001b[0;34m)\u001b[0m\u001b[0;34m:\u001b[0m\u001b[0;34m\u001b[0m\u001b[0;34m\u001b[0m\u001b[0m\n",
      "\u001b[0;32m/opt/anaconda3/lib/python3.8/site-packages/pandas/io/parsers/readers.py\u001b[0m in \u001b[0;36m_make_engine\u001b[0;34m(self, engine)\u001b[0m\n\u001b[1;32m   1038\u001b[0m             )\n\u001b[1;32m   1039\u001b[0m         \u001b[0;31m# error: Too many arguments for \"ParserBase\"\u001b[0m\u001b[0;34m\u001b[0m\u001b[0;34m\u001b[0m\u001b[0;34m\u001b[0m\u001b[0m\n\u001b[0;32m-> 1040\u001b[0;31m         \u001b[0;32mreturn\u001b[0m \u001b[0mmapping\u001b[0m\u001b[0;34m[\u001b[0m\u001b[0mengine\u001b[0m\u001b[0;34m]\u001b[0m\u001b[0;34m(\u001b[0m\u001b[0mself\u001b[0m\u001b[0;34m.\u001b[0m\u001b[0mf\u001b[0m\u001b[0;34m,\u001b[0m \u001b[0;34m**\u001b[0m\u001b[0mself\u001b[0m\u001b[0;34m.\u001b[0m\u001b[0moptions\u001b[0m\u001b[0;34m)\u001b[0m  \u001b[0;31m# type: ignore[call-arg]\u001b[0m\u001b[0;34m\u001b[0m\u001b[0;34m\u001b[0m\u001b[0m\n\u001b[0m\u001b[1;32m   1041\u001b[0m \u001b[0;34m\u001b[0m\u001b[0m\n\u001b[1;32m   1042\u001b[0m     \u001b[0;32mdef\u001b[0m \u001b[0m_failover_to_python\u001b[0m\u001b[0;34m(\u001b[0m\u001b[0mself\u001b[0m\u001b[0;34m)\u001b[0m\u001b[0;34m:\u001b[0m\u001b[0;34m\u001b[0m\u001b[0;34m\u001b[0m\u001b[0m\n",
      "\u001b[0;32m/opt/anaconda3/lib/python3.8/site-packages/pandas/io/parsers/c_parser_wrapper.py\u001b[0m in \u001b[0;36m__init__\u001b[0;34m(self, src, **kwds)\u001b[0m\n\u001b[1;32m     49\u001b[0m \u001b[0;34m\u001b[0m\u001b[0m\n\u001b[1;32m     50\u001b[0m         \u001b[0;31m# open handles\u001b[0m\u001b[0;34m\u001b[0m\u001b[0;34m\u001b[0m\u001b[0;34m\u001b[0m\u001b[0m\n\u001b[0;32m---> 51\u001b[0;31m         \u001b[0mself\u001b[0m\u001b[0;34m.\u001b[0m\u001b[0m_open_handles\u001b[0m\u001b[0;34m(\u001b[0m\u001b[0msrc\u001b[0m\u001b[0;34m,\u001b[0m \u001b[0mkwds\u001b[0m\u001b[0;34m)\u001b[0m\u001b[0;34m\u001b[0m\u001b[0;34m\u001b[0m\u001b[0m\n\u001b[0m\u001b[1;32m     52\u001b[0m         \u001b[0;32massert\u001b[0m \u001b[0mself\u001b[0m\u001b[0;34m.\u001b[0m\u001b[0mhandles\u001b[0m \u001b[0;32mis\u001b[0m \u001b[0;32mnot\u001b[0m \u001b[0;32mNone\u001b[0m\u001b[0;34m\u001b[0m\u001b[0;34m\u001b[0m\u001b[0m\n\u001b[1;32m     53\u001b[0m \u001b[0;34m\u001b[0m\u001b[0m\n",
      "\u001b[0;32m/opt/anaconda3/lib/python3.8/site-packages/pandas/io/parsers/base_parser.py\u001b[0m in \u001b[0;36m_open_handles\u001b[0;34m(self, src, kwds)\u001b[0m\n\u001b[1;32m    220\u001b[0m         \u001b[0mLet\u001b[0m \u001b[0mthe\u001b[0m \u001b[0mreaders\u001b[0m \u001b[0mopen\u001b[0m \u001b[0mIOHandles\u001b[0m \u001b[0mafter\u001b[0m \u001b[0mthey\u001b[0m \u001b[0mare\u001b[0m \u001b[0mdone\u001b[0m \u001b[0;32mwith\u001b[0m \u001b[0mtheir\u001b[0m \u001b[0mpotential\u001b[0m \u001b[0mraises\u001b[0m\u001b[0;34m.\u001b[0m\u001b[0;34m\u001b[0m\u001b[0;34m\u001b[0m\u001b[0m\n\u001b[1;32m    221\u001b[0m         \"\"\"\n\u001b[0;32m--> 222\u001b[0;31m         self.handles = get_handle(\n\u001b[0m\u001b[1;32m    223\u001b[0m             \u001b[0msrc\u001b[0m\u001b[0;34m,\u001b[0m\u001b[0;34m\u001b[0m\u001b[0;34m\u001b[0m\u001b[0m\n\u001b[1;32m    224\u001b[0m             \u001b[0;34m\"r\"\u001b[0m\u001b[0;34m,\u001b[0m\u001b[0;34m\u001b[0m\u001b[0;34m\u001b[0m\u001b[0m\n",
      "\u001b[0;32m/opt/anaconda3/lib/python3.8/site-packages/pandas/io/common.py\u001b[0m in \u001b[0;36mget_handle\u001b[0;34m(path_or_buf, mode, encoding, compression, memory_map, is_text, errors, storage_options)\u001b[0m\n\u001b[1;32m    700\u001b[0m         \u001b[0;32mif\u001b[0m \u001b[0mioargs\u001b[0m\u001b[0;34m.\u001b[0m\u001b[0mencoding\u001b[0m \u001b[0;32mand\u001b[0m \u001b[0;34m\"b\"\u001b[0m \u001b[0;32mnot\u001b[0m \u001b[0;32min\u001b[0m \u001b[0mioargs\u001b[0m\u001b[0;34m.\u001b[0m\u001b[0mmode\u001b[0m\u001b[0;34m:\u001b[0m\u001b[0;34m\u001b[0m\u001b[0;34m\u001b[0m\u001b[0m\n\u001b[1;32m    701\u001b[0m             \u001b[0;31m# Encoding\u001b[0m\u001b[0;34m\u001b[0m\u001b[0;34m\u001b[0m\u001b[0;34m\u001b[0m\u001b[0m\n\u001b[0;32m--> 702\u001b[0;31m             handle = open(\n\u001b[0m\u001b[1;32m    703\u001b[0m                 \u001b[0mhandle\u001b[0m\u001b[0;34m,\u001b[0m\u001b[0;34m\u001b[0m\u001b[0;34m\u001b[0m\u001b[0m\n\u001b[1;32m    704\u001b[0m                 \u001b[0mioargs\u001b[0m\u001b[0;34m.\u001b[0m\u001b[0mmode\u001b[0m\u001b[0;34m,\u001b[0m\u001b[0;34m\u001b[0m\u001b[0;34m\u001b[0m\u001b[0m\n",
      "\u001b[0;31mFileNotFoundError\u001b[0m: [Errno 2] No such file or directory: '/Users/jerryyileibao/Downloads/train.csv'"
     ]
    }
   ],
   "source": [
    "train_file = '/Users/jerryyileibao/Downloads/titanic project/train.csv'\n",
    "test_file = '/Users/jerryyileibao/Downloads/titanic project/test.csv'\n",
    "\n",
    "train = pd.read_csv(train_file)\n",
    "test = pd.read_csv(test_file)"
   ]
  },
  {
   "cell_type": "markdown",
   "id": "d2aa7fda",
   "metadata": {},
   "source": [
    "# 2.2 Check shape"
   ]
  },
  {
   "cell_type": "code",
   "execution_count": null,
   "id": "71c94cdf",
   "metadata": {},
   "outputs": [],
   "source": [
    "print('train shape: ',train.shape)\n",
    "print('test shape: ',test.shape)\n",
    "\n",
    "#difference in num of columns lie in 'Survived'"
   ]
  },
  {
   "cell_type": "markdown",
   "id": "150cd19d",
   "metadata": {},
   "source": [
    "# 2.3 Append into full dataset"
   ]
  },
  {
   "cell_type": "code",
   "execution_count": null,
   "id": "706f0af8",
   "metadata": {},
   "outputs": [],
   "source": [
    "full = train.append(test,ignore_index=True)"
   ]
  },
  {
   "cell_type": "markdown",
   "id": "675887f7",
   "metadata": {},
   "source": [
    "# 3.1 Check info"
   ]
  },
  {
   "cell_type": "code",
   "execution_count": null,
   "id": "e528bf04",
   "metadata": {},
   "outputs": [],
   "source": [
    "full.info()\n",
    "\n",
    "# age missing some\n",
    "# fare missing 1\n",
    "# cabin missing a lot\n",
    "# embarked missing 2"
   ]
  },
  {
   "cell_type": "markdown",
   "id": "7a679705",
   "metadata": {},
   "source": [
    "# 3.2.1 Plot the survival rate vs Embarked location"
   ]
  },
  {
   "cell_type": "code",
   "execution_count": null,
   "id": "1daada0d",
   "metadata": {},
   "outputs": [],
   "source": [
    "sns.barplot(data=train,x='Embarked',y='Survived')"
   ]
  },
  {
   "cell_type": "markdown",
   "id": "f407f735",
   "metadata": {},
   "source": [
    "Those embarked from Cherbourg have the higest survival rate"
   ]
  },
  {
   "cell_type": "markdown",
   "id": "b5445dd8",
   "metadata": {},
   "source": [
    "# 3.2.2 Plot the survival rate vs parch (# of parent/children)"
   ]
  },
  {
   "cell_type": "code",
   "execution_count": null,
   "id": "124f06fe",
   "metadata": {},
   "outputs": [],
   "source": [
    "sns.barplot(data=train,x='Parch',y='Survived')"
   ]
  },
  {
   "cell_type": "markdown",
   "id": "73312333",
   "metadata": {},
   "source": [
    "Parch=3 (3 parents/children) group has the highest survival rate"
   ]
  },
  {
   "cell_type": "markdown",
   "id": "54d2c010",
   "metadata": {},
   "source": [
    "# 3.2.3 Plot the survival rate vs SibSp (# of siblings / spouses)"
   ]
  },
  {
   "cell_type": "code",
   "execution_count": null,
   "id": "57569436",
   "metadata": {},
   "outputs": [],
   "source": [
    "sns.barplot(data = train, x = 'SibSp', y = 'Survived')"
   ]
  },
  {
   "cell_type": "markdown",
   "id": "2814c6b7",
   "metadata": {},
   "source": [
    "Those with 1 or 2 siblings/spouses have the highest survival rate"
   ]
  },
  {
   "cell_type": "markdown",
   "id": "928ce69c",
   "metadata": {},
   "source": [
    "# 3.2.4 Plot the survival rate vs Pclass"
   ]
  },
  {
   "cell_type": "markdown",
   "id": "48ce5d92",
   "metadata": {},
   "source": [
    "sns.barplot(data = train, x = 'Pclass', y = 'Survived')"
   ]
  },
  {
   "cell_type": "markdown",
   "id": "82093338",
   "metadata": {},
   "source": [
    "Class 1 has the highest survival rate"
   ]
  },
  {
   "cell_type": "markdown",
   "id": "bab004d2",
   "metadata": {},
   "source": [
    "# 3.2.5 Plot the survival rate vs gender"
   ]
  },
  {
   "cell_type": "code",
   "execution_count": null,
   "id": "303da13e",
   "metadata": {},
   "outputs": [],
   "source": [
    "sns.barplot(data = train, x = 'Sex', y = 'Survived')"
   ]
  },
  {
   "cell_type": "markdown",
   "id": "1d926979",
   "metadata": {},
   "source": [
    "Female are more likely to survive"
   ]
  },
  {
   "cell_type": "markdown",
   "id": "80eacbe9",
   "metadata": {},
   "source": [
    "# 3.2.6 Plot the survival rate vs age"
   ]
  },
  {
   "cell_type": "code",
   "execution_count": null,
   "id": "26f53936",
   "metadata": {},
   "outputs": [],
   "source": [
    "ageFacet=sns.FacetGrid(train,hue='Survived',aspect=3)\n",
    "ageFacet.map(sns.kdeplot,'Age',shade=True)\n",
    "ageFacet.set(xlim=(0,train['Age'].max()))\n",
    "ageFacet.add_legend()"
   ]
  },
  {
   "cell_type": "markdown",
   "id": "4d08c2e5",
   "metadata": {},
   "source": [
    "# 3.2.7 Plot the survival rate vs fare"
   ]
  },
  {
   "cell_type": "code",
   "execution_count": null,
   "id": "4a343797",
   "metadata": {},
   "outputs": [],
   "source": [
    "fareFacet = sns.FacetGrid(train,hue = 'Survived', aspect = 3)\n",
    "fareFacet.map(sns.kdeplot,'Fare',shade = True)\n",
    "fareFacet.set(xlim=(0,150))\n",
    "fareFacet.add_legend()"
   ]
  },
  {
   "cell_type": "code",
   "execution_count": null,
   "id": "2e668769",
   "metadata": {},
   "outputs": [],
   "source": [
    "## Check the distribution of fare"
   ]
  },
  {
   "cell_type": "code",
   "execution_count": null,
   "id": "d47a6cbb",
   "metadata": {},
   "outputs": [],
   "source": [
    "fare = sns.distplot(full['Fare'][full['Fare'].notnull()],label = 'skewness:%.2f'%(full['Fare'].skew()))\n",
    "fare.legend()"
   ]
  },
  {
   "cell_type": "code",
   "execution_count": null,
   "id": "7c39d319",
   "metadata": {},
   "outputs": [],
   "source": [
    "## Since fare is very skewed to the right, we use log value to solve the problem of uneven distribution"
   ]
  },
  {
   "cell_type": "code",
   "execution_count": null,
   "id": "7f525435",
   "metadata": {},
   "outputs": [],
   "source": [
    "full['Fare'] = full['Fare'].map(lambda x: np.log(x) if x>0 else 0)"
   ]
  },
  {
   "cell_type": "markdown",
   "id": "9d8a4c32",
   "metadata": {},
   "source": [
    "# 4. Pre-processing"
   ]
  },
  {
   "cell_type": "markdown",
   "id": "d3d80c16",
   "metadata": {},
   "source": [
    "# 4.1 Data cleaning"
   ]
  },
  {
   "cell_type": "markdown",
   "id": "252b91f0",
   "metadata": {},
   "source": [
    "## 4.1.1 Fill Cabin null value with NaN"
   ]
  },
  {
   "cell_type": "code",
   "execution_count": null,
   "id": "354538ea",
   "metadata": {},
   "outputs": [],
   "source": [
    "full['Cabin']=full['Cabin'].fillna('U')"
   ]
  },
  {
   "cell_type": "code",
   "execution_count": null,
   "id": "533ed42e",
   "metadata": {},
   "outputs": [],
   "source": [
    "full['Cabin'].head()"
   ]
  },
  {
   "cell_type": "markdown",
   "id": "e86152ee",
   "metadata": {},
   "source": [
    "## 4.1.2 Fill Embarked null value "
   ]
  },
  {
   "cell_type": "code",
   "execution_count": null,
   "id": "07ed071f",
   "metadata": {},
   "outputs": [],
   "source": [
    "full[full['Embarked'].isnull()]"
   ]
  },
  {
   "cell_type": "code",
   "execution_count": null,
   "id": "22073741",
   "metadata": {},
   "outputs": [],
   "source": [
    "full['Embarked'].value_counts()"
   ]
  },
  {
   "cell_type": "markdown",
   "id": "2a8af4e5",
   "metadata": {},
   "source": [
    "Since most people embarked from Southampton, we fill these two entries with Southampton"
   ]
  },
  {
   "cell_type": "code",
   "execution_count": null,
   "id": "ada65c80",
   "metadata": {},
   "outputs": [],
   "source": [
    "full['Embarked']=full['Embarked'].fillna('S')"
   ]
  },
  {
   "cell_type": "markdown",
   "id": "7829a6a3",
   "metadata": {},
   "source": [
    "## 4.1.3 Fill Fare null value"
   ]
  },
  {
   "cell_type": "code",
   "execution_count": null,
   "id": "ce998c44",
   "metadata": {},
   "outputs": [],
   "source": [
    "full[full['Fare'] == min(full['Fare'])]"
   ]
  },
  {
   "cell_type": "code",
   "execution_count": null,
   "id": "c5752b12",
   "metadata": {},
   "outputs": [],
   "source": [
    "full[(full['Fare']==0)&(full['Pclass']==3)]['Fare'] = full[(full['Pclass']==3)&(full['Embarked']=='S')&(full['Fare']!=0)]['Fare'].mean()\n",
    "full[(full['Fare']==0)&(full['Pclass']==2)]['Fare'] = full[(full['Pclass']==2)&(full['Embarked']=='S')&(full['Fare']!=0)]['Fare'].mean()\n",
    "full[(full['Fare']==0)&(full['Pclass']==1)]['Fare'] = full[(full['Pclass']==1)&(full['Embarked']=='S')&(full['Fare']!=0)]['Fare'].mean()"
   ]
  },
  {
   "cell_type": "markdown",
   "id": "500a78fa",
   "metadata": {},
   "source": [
    "# 4.2 Feature Engineering"
   ]
  },
  {
   "cell_type": "markdown",
   "id": "3a22f11a",
   "metadata": {},
   "source": [
    "## 4.2.1 Title in the name"
   ]
  },
  {
   "cell_type": "code",
   "execution_count": null,
   "id": "170db604",
   "metadata": {},
   "outputs": [],
   "source": [
    "full['Title']=full['Name'].map(lambda x:x.split(',')[1].split('.')[0].strip())\n",
    "full['Title'].value_counts()"
   ]
  },
  {
   "cell_type": "code",
   "execution_count": null,
   "id": "94bd6f5d",
   "metadata": {},
   "outputs": [],
   "source": [
    "# Categorize the title\n",
    "TitleDict={}\n",
    "TitleDict['Mr']='Mr'\n",
    "TitleDict['Mlle']='Miss'\n",
    "TitleDict['Miss']='Miss'\n",
    "TitleDict['Master']='Master'\n",
    "TitleDict['Jonkheer']='Master'\n",
    "TitleDict['Mme']='Mrs'\n",
    "TitleDict['Ms']='Mrs'\n",
    "TitleDict['Mrs']='Mrs'\n",
    "TitleDict['Don']='Royalty'\n",
    "TitleDict['Sir']='Royalty'\n",
    "TitleDict['the Countess']='Royalty'\n",
    "TitleDict['Dona']='Royalty'\n",
    "TitleDict['Lady']='Royalty'\n",
    "TitleDict['Capt']='Officer'\n",
    "TitleDict['Col']='Officer'\n",
    "TitleDict['Major']='Officer'\n",
    "TitleDict['Dr']='Officer'\n",
    "TitleDict['Rev']='Officer'\n",
    "\n",
    "full['Title']=full['Title'].map(TitleDict)\n",
    "full['Title'].value_counts()"
   ]
  },
  {
   "cell_type": "code",
   "execution_count": null,
   "id": "cd5a31c5",
   "metadata": {},
   "outputs": [],
   "source": [
    "# visualize survival rate vs title\n",
    "sns.barplot(data=full,x='Title',y='Survived')"
   ]
  },
  {
   "cell_type": "markdown",
   "id": "cbf3f5df",
   "metadata": {},
   "source": [
    "We see that survival rate for \"Mr\" and \"Officer\" is significantly lower than other titles"
   ]
  },
  {
   "cell_type": "markdown",
   "id": "496288b4",
   "metadata": {},
   "source": [
    "## 4.2.2 Family Size"
   ]
  },
  {
   "cell_type": "code",
   "execution_count": null,
   "id": "ced9d4bc",
   "metadata": {},
   "outputs": [],
   "source": [
    "#calculate the family size\n",
    "full['familyNum']=full['Parch']+full['SibSp']+1"
   ]
  },
  {
   "cell_type": "code",
   "execution_count": null,
   "id": "ecc63255",
   "metadata": {},
   "outputs": [],
   "source": [
    "#function to categorize different family sizes\n",
    "def familysize(familyNum):\n",
    "    if familyNum==1:\n",
    "        return 0\n",
    "    elif (familyNum>=2)&(familyNum<=4):\n",
    "        return 1\n",
    "    else:\n",
    "        return 2\n",
    "\n",
    "full['familySize']=full['familyNum'].map(familysize)\n",
    "full['familySize'].value_counts()"
   ]
  },
  {
   "cell_type": "code",
   "execution_count": null,
   "id": "79df332b",
   "metadata": {},
   "outputs": [],
   "source": [
    "sns.barplot(data=full,x='familySize',y='Survived')"
   ]
  },
  {
   "cell_type": "markdown",
   "id": "2d1ae847",
   "metadata": {},
   "source": [
    "Survival is higest when family size is moderate"
   ]
  },
  {
   "cell_type": "markdown",
   "id": "57bb086b",
   "metadata": {},
   "source": [
    "## 4.2.3 Cabin types"
   ]
  },
  {
   "cell_type": "code",
   "execution_count": null,
   "id": "5a592cb6",
   "metadata": {},
   "outputs": [],
   "source": [
    "#using the cabin starting letter to classify different cabins\n",
    "full['Deck']=full['Cabin'].map(lambda x:x[0])"
   ]
  },
  {
   "cell_type": "code",
   "execution_count": null,
   "id": "76493e47",
   "metadata": {},
   "outputs": [],
   "source": [
    "sns.barplot(data=full,x='Deck',y='Survived')"
   ]
  },
  {
   "cell_type": "markdown",
   "id": "84a7db98",
   "metadata": {},
   "source": [
    "B,D,E Cabins have higher survival rate; U and T have lower survival rate"
   ]
  },
  {
   "cell_type": "markdown",
   "id": "d87cff1a",
   "metadata": {},
   "source": [
    "## 4.2.4 Ticket number grouping"
   ]
  },
  {
   "cell_type": "code",
   "execution_count": null,
   "id": "279de7b4",
   "metadata": {},
   "outputs": [],
   "source": [
    "full['Ticket']"
   ]
  },
  {
   "cell_type": "code",
   "execution_count": null,
   "id": "4da38827",
   "metadata": {},
   "outputs": [],
   "source": [
    "#extract the count of tickets with the same ticket number\n",
    "\n",
    "TickCountDict={}\n",
    "TickCountDict=full['Ticket'].value_counts()\n",
    "TickCountDict.head()"
   ]
  },
  {
   "cell_type": "code",
   "execution_count": null,
   "id": "1f70e10d",
   "metadata": {},
   "outputs": [],
   "source": [
    "full['TicketCount'] = full['Ticket'].map(TickCountDict)\n",
    "full['TicketCount'].head()"
   ]
  },
  {
   "cell_type": "code",
   "execution_count": null,
   "id": "d9b67e05",
   "metadata": {},
   "outputs": [],
   "source": [
    "sns.barplot(data=full,x='TicketCount',y='Survived')"
   ]
  },
  {
   "cell_type": "code",
   "execution_count": null,
   "id": "d52a7834",
   "metadata": {},
   "outputs": [],
   "source": [
    "# group the passengers by count of tickets with the same ticket number\n",
    "def TickCountGroup(num):\n",
    "    if (num>=2)&(num<=4):\n",
    "        return 0\n",
    "    elif (num==1)|((num>=5)&(num<=8)):\n",
    "        return 1\n",
    "    else :\n",
    "        return 2\n",
    "\n",
    "full['TickGroup']=full['TicketCount'].map(TickCountGroup)\n",
    "\n",
    "sns.barplot(data=full,x='TickGroup',y='Survived')"
   ]
  },
  {
   "cell_type": "markdown",
   "id": "c8b3c292",
   "metadata": {},
   "source": [
    "## 4.2.5 Age missing values"
   ]
  },
  {
   "cell_type": "code",
   "execution_count": null,
   "id": "b3b2e348",
   "metadata": {},
   "outputs": [],
   "source": [
    "full['Age'].isnull()"
   ]
  },
  {
   "cell_type": "code",
   "execution_count": null,
   "id": "93153278",
   "metadata": {},
   "outputs": [],
   "source": [
    "full['Age'].isnull().sum()"
   ]
  },
  {
   "cell_type": "markdown",
   "id": "2398c976",
   "metadata": {},
   "source": [
    "Many rows don't have age, so we need to build a model to fill in the predicted age"
   ]
  },
  {
   "cell_type": "code",
   "execution_count": null,
   "id": "36503a2b",
   "metadata": {},
   "outputs": [],
   "source": [
    "# filter the relevant vars\n",
    "AgePre=full[['Age','Parch','Pclass','SibSp','Title','familyNum','TicketCount']]\n",
    "\n",
    "#one-hot encoding\n",
    "AgePre=pd.get_dummies(AgePre)\n",
    "ParAge=pd.get_dummies(AgePre['Parch'],prefix='Parch')\n",
    "SibAge=pd.get_dummies(AgePre['SibSp'],prefix='SibSp')\n",
    "PclAge=pd.get_dummies(AgePre['Pclass'],prefix='Pclass')"
   ]
  },
  {
   "cell_type": "code",
   "execution_count": null,
   "id": "91854864",
   "metadata": {},
   "outputs": [],
   "source": [
    "#check correlation\n",
    "AgeCorrDf=pd.DataFrame()\n",
    "AgeCorrDf=AgePre.corr()\n",
    "AgeCorrDf['Age'].sort_values()"
   ]
  },
  {
   "cell_type": "code",
   "execution_count": null,
   "id": "2ab7fa3a",
   "metadata": {},
   "outputs": [],
   "source": [
    "#concatenate the one-hot encoding results\n",
    "AgePre=pd.concat([AgePre,ParAge,SibAge,PclAge],axis=1)\n",
    "AgePre.head()"
   ]
  },
  {
   "cell_type": "code",
   "execution_count": null,
   "id": "65b781b7",
   "metadata": {},
   "outputs": [],
   "source": [
    "#train test split for random forest regression\n",
    "AgeKnown=AgePre[AgePre['Age'].notnull()]\n",
    "AgeUnKnown=AgePre[AgePre['Age'].isnull()]\n",
    "\n",
    "#train split for x and y\n",
    "AgeKnown_X=AgeKnown.drop(['Age'],axis=1)\n",
    "AgeKnown_y=AgeKnown['Age']\n",
    "\n",
    "#test data, get x\n",
    "AgeUnKnown_X=AgeUnKnown.drop(['Age'],axis=1)\n",
    "\n",
    "#model\n",
    "from sklearn.ensemble import RandomForestRegressor\n",
    "rfr=RandomForestRegressor(random_state=None,n_estimators=500,n_jobs=-1)\n",
    "rfr.fit(AgeKnown_X,AgeKnown_y)"
   ]
  },
  {
   "cell_type": "code",
   "execution_count": null,
   "id": "74d4f057",
   "metadata": {},
   "outputs": [],
   "source": [
    "#model score\n",
    "rfr.score(AgeKnown_X,AgeKnown_y)"
   ]
  },
  {
   "cell_type": "code",
   "execution_count": null,
   "id": "dd9869e0",
   "metadata": {},
   "outputs": [],
   "source": [
    "#predict the unknown age\n",
    "AgeUnKnown_y=rfr.predict(AgeUnKnown_X)\n",
    "\n",
    "#fill the unknown ages in full\n",
    "full.loc[full['Age'].isnull(),['Age']]=AgeUnKnown_y"
   ]
  },
  {
   "cell_type": "markdown",
   "id": "088484ba",
   "metadata": {},
   "source": [
    "# 4.3 Potential peer effects "
   ]
  },
  {
   "cell_type": "code",
   "execution_count": null,
   "id": "a30f4833",
   "metadata": {},
   "outputs": [],
   "source": [
    "#We try to see if Surname has a peer effect, namely people with the same surname (i.e. relatives) have the tendency of surviving or dying together\n",
    "#Since survival is closely relate to age and gender, we look at two specific groups:\n",
    "#1. male above age 12 who survived\n",
    "#2. female and children below 12 who did not survive"
   ]
  },
  {
   "cell_type": "code",
   "execution_count": null,
   "id": "b9968565",
   "metadata": {},
   "outputs": [],
   "source": [
    "#extract the surnames and their frequency\n",
    "full['Surname']=full['Name'].map(lambda x:x.split(',')[0].strip())\n",
    "SurNameDict={}\n",
    "SurNameDict=full['Surname'].value_counts()\n",
    "full['SurnameNum']=full['Surname'].map(SurNameDict)"
   ]
  },
  {
   "cell_type": "code",
   "execution_count": null,
   "id": "bbea44f0",
   "metadata": {},
   "outputs": [],
   "source": [
    "#divde into 2 groups\n",
    "MaleDf=full[(full['Sex']=='male')&(full['Age']>12)&(full['familyNum']>=2)]\n",
    "FemChildDf=full[((full['Sex']=='female')|(full['Age']<=12))&(full['familyNum']>=2)]"
   ]
  },
  {
   "cell_type": "code",
   "execution_count": null,
   "id": "e7dca877",
   "metadata": {},
   "outputs": [],
   "source": [
    "#check out male survival rate by Surname\n",
    "MSurNamDf=MaleDf['Survived'].groupby(MaleDf['Surname']).mean()\n",
    "MSurNamDf.head()\n",
    "MSurNamDf.value_counts()"
   ]
  },
  {
   "cell_type": "markdown",
   "id": "9963dfbf",
   "metadata": {},
   "source": [
    "We see strong peer effects. We will alter some feature values for male group that survived to increase their probability of being marked as survived"
   ]
  },
  {
   "cell_type": "code",
   "execution_count": null,
   "id": "84372b7b",
   "metadata": {},
   "outputs": [],
   "source": [
    "#Get the dictionary of Surnames that \n",
    "MSurNamDict={}\n",
    "MSurNamDict=MSurNamDf[MSurNamDf.values==1].index\n",
    "MSurNamDict\n"
   ]
  },
  {
   "cell_type": "code",
   "execution_count": null,
   "id": "7823ab60",
   "metadata": {},
   "outputs": [],
   "source": [
    "#same analysis for females and children group\n",
    "FCSurNamDf=FemChildDf['Survived'].groupby(FemChildDf['Surname']).mean()\n",
    "FCSurNamDf.head()\n",
    "FCSurNamDf.value_counts()"
   ]
  },
  {
   "cell_type": "code",
   "execution_count": null,
   "id": "d84325de",
   "metadata": {},
   "outputs": [],
   "source": [
    "FCSurNamDict={}\n",
    "FCSurNamDict=FCSurNamDf[FCSurNamDf.values==0].index\n",
    "FCSurNamDict"
   ]
  },
  {
   "cell_type": "markdown",
   "id": "16c33e89",
   "metadata": {},
   "source": [
    "Similarly, if we change these that did not survive into the male not survived group, then from the last group we see that male over 12 are less likely to survive. \n",
    "We do the same thing to the survived men. We see that women and children in this group are more likely to survive, so we modify the survived men to match the feature in this group."
   ]
  },
  {
   "cell_type": "code",
   "execution_count": null,
   "id": "de530505",
   "metadata": {},
   "outputs": [],
   "source": [
    "# Change the men into age under 12 and female\n",
    "full.loc[(full['Survived'].isnull())&(full['Surname'].isin(MSurNamDict))&(full['Sex']=='male'),'Age']=6\n",
    "full.loc[(full['Survived'].isnull())&(full['Surname'].isin(MSurNamDict))&(full['Sex']=='male'),'Sex']='female'"
   ]
  },
  {
   "cell_type": "code",
   "execution_count": null,
   "id": "d79ff4f9",
   "metadata": {},
   "outputs": [],
   "source": [
    "#change the women into age over 12 and male\n",
    "full.loc[(full['Survived'].isnull())&(full['Surname'].isin(FCSurNamDict))&((full['Sex']=='female')|(full['Age']<=12)),'Age']=50\n",
    "full.loc[(full['Survived'].isnull())&(full['Surname'].isin(FCSurNamDict))&((full['Sex']=='female')|(full['Age']<=12)),'Sex']='male'"
   ]
  },
  {
   "cell_type": "markdown",
   "id": "8dd2f8ce",
   "metadata": {},
   "source": [
    "# Feature selection"
   ]
  },
  {
   "cell_type": "markdown",
   "id": "23421280",
   "metadata": {},
   "source": [
    "Only keep the features that are highly correlated with Survived"
   ]
  },
  {
   "cell_type": "code",
   "execution_count": null,
   "id": "e05ea899",
   "metadata": {},
   "outputs": [],
   "source": [
    "#drop the features that are not related\n",
    "fullSel=full.drop(['Cabin','Name','Ticket','PassengerId','Surname','SurnameNum'],axis=1)"
   ]
  },
  {
   "cell_type": "code",
   "execution_count": null,
   "id": "25fcc9c4",
   "metadata": {},
   "outputs": [],
   "source": [
    "#check the correlations between survived and other variables\n",
    "corrDf=pd.DataFrame()\n",
    "corrDf=fullSel.corr()\n",
    "corrDf['Survived'].sort_values(ascending=True)"
   ]
  },
  {
   "cell_type": "code",
   "execution_count": null,
   "id": "9bb7710f",
   "metadata": {},
   "outputs": [],
   "source": [
    "import matplotlib.pyplot as plt\n",
    "plt.figure(figsize=(8,8))\n",
    "sns.heatmap(fullSel.corr(),cmap='BrBG',annot=True,\n",
    "           linewidths=.5)\n",
    "plt.xticks(rotation=45)"
   ]
  },
  {
   "cell_type": "code",
   "execution_count": null,
   "id": "74b35bf0",
   "metadata": {},
   "outputs": [],
   "source": [
    "#drop the low correlation features\n",
    "fullSel=fullSel.drop(['familyNum','SibSp','TicketCount','Parch'],axis=1)\n",
    "\n",
    "#one-hot encoding\n",
    "fullSel=pd.get_dummies(fullSel)\n",
    "PclassDf=pd.get_dummies(full['Pclass'],prefix='Pclass')\n",
    "TickGroupDf=pd.get_dummies(full['TickGroup'],prefix='TickGroup')\n",
    "familySizeDf=pd.get_dummies(full['familySize'],prefix='familySize')"
   ]
  },
  {
   "cell_type": "code",
   "execution_count": null,
   "id": "bb48a133",
   "metadata": {},
   "outputs": [],
   "source": [
    "fullSel=pd.concat([fullSel,PclassDf,TickGroupDf,familySizeDf],axis=1)"
   ]
  },
  {
   "cell_type": "markdown",
   "id": "f725d63c",
   "metadata": {},
   "source": [
    "# 5. Model"
   ]
  },
  {
   "cell_type": "markdown",
   "id": "21ec00d9",
   "metadata": {},
   "source": [
    "## 5.1 Model construction"
   ]
  },
  {
   "cell_type": "markdown",
   "id": "9d227bb8",
   "metadata": {},
   "source": [
    "Models include: Decision Tree, Gradient Boosting, Random Forest, KNN, Logistic Regression, SVC"
   ]
  },
  {
   "cell_type": "code",
   "execution_count": null,
   "id": "f24820f6",
   "metadata": {},
   "outputs": [],
   "source": [
    "#train test split\n",
    "train = fullSel[fullSel['Survived'].notnull()]\n",
    "test = fullSel[fullSel['Survived'].isnull()]"
   ]
  },
  {
   "cell_type": "code",
   "execution_count": null,
   "id": "99c149d3",
   "metadata": {},
   "outputs": [],
   "source": [
    "#train test x y\n",
    "train_x = train.drop('Survived',axis=1)\n",
    "train_y= train['Survived']\n",
    "\n",
    "test_x = test.drop('Survived',axis=1)"
   ]
  },
  {
   "cell_type": "code",
   "execution_count": null,
   "id": "ab908833",
   "metadata": {},
   "outputs": [],
   "source": [
    "#imports\n",
    "from sklearn.ensemble import RandomForestClassifier,GradientBoostingClassifier\n",
    "from sklearn.linear_model import LogisticRegression\n",
    "from sklearn.neighbors import KNeighborsClassifier\n",
    "from sklearn.tree import DecisionTreeClassifier\n",
    "from sklearn.svm import SVC\n",
    "from sklearn.model_selection import GridSearchCV,cross_val_score,StratifiedKFold"
   ]
  },
  {
   "cell_type": "code",
   "execution_count": null,
   "id": "0fc45e5c",
   "metadata": {},
   "outputs": [],
   "source": [
    "kfold=StratifiedKFold(n_splits=10)"
   ]
  },
  {
   "cell_type": "code",
   "execution_count": null,
   "id": "9ec5cd2e",
   "metadata": {},
   "outputs": [],
   "source": [
    "classifiers=[]\n",
    "classifiers.append(SVC())\n",
    "classifiers.append(DecisionTreeClassifier())\n",
    "classifiers.append(RandomForestClassifier())\n",
    "classifiers.append(GradientBoostingClassifier())\n",
    "classifiers.append(KNeighborsClassifier())\n",
    "classifiers.append(LogisticRegression())"
   ]
  },
  {
   "cell_type": "code",
   "execution_count": null,
   "id": "58f003c7",
   "metadata": {},
   "outputs": [],
   "source": [
    "#obtain resuls\n",
    "cv_results = []\n",
    "for classifier in classifiers:\n",
    "    cv_results.append(cross_val_score(classifier,train_x,train_y,scoring = 'accuracy', cv = kfold,n_jobs = -1))"
   ]
  },
  {
   "cell_type": "code",
   "execution_count": null,
   "id": "261a6221",
   "metadata": {},
   "outputs": [],
   "source": [
    "#obtain mean and std\n",
    "cv_means=[]\n",
    "cv_std=[]\n",
    "\n",
    "for cv_result in cv_results:\n",
    "    cv_means.append(cv_result.mean())\n",
    "    cv_std.append(cv_result.std())"
   ]
  },
  {
   "cell_type": "code",
   "execution_count": null,
   "id": "a6c94557",
   "metadata": {},
   "outputs": [],
   "source": [
    "#turn results into a dataframe\n",
    "cvResDf=pd.DataFrame({'cv_mean':cv_means,\n",
    "                     'cv_std':cv_std,\n",
    "                     'algorithm':['SVC','DecisionTreeCla','RandomForestCla',\n",
    "                                  'GradientBoostingCla','KNN','LR']})"
   ]
  },
  {
   "cell_type": "code",
   "execution_count": null,
   "id": "3a4cf0b3",
   "metadata": {},
   "outputs": [],
   "source": [
    "cvResDf"
   ]
  },
  {
   "cell_type": "markdown",
   "id": "d777cbe6",
   "metadata": {},
   "source": [
    "LR and GradientBoosting have the best performance"
   ]
  },
  {
   "cell_type": "code",
   "execution_count": null,
   "id": "35092051",
   "metadata": {},
   "outputs": [],
   "source": [
    "#GBC\n",
    "GBC = GradientBoostingClassifier()\n",
    "gb_param_grid = {'loss' : [\"deviance\"],\n",
    "              'n_estimators' : [100,200,300],\n",
    "              'learning_rate': [0.1, 0.05, 0.01],\n",
    "              'max_depth': [4, 8],\n",
    "              'min_samples_leaf': [100,150],\n",
    "              'max_features': [0.3, 0.1] \n",
    "              }"
   ]
  },
  {
   "cell_type": "code",
   "execution_count": null,
   "id": "771586c1",
   "metadata": {},
   "outputs": [],
   "source": [
    "modelgsGBC = GridSearchCV(GBC,param_grid = gb_param_grid, cv=kfold, \n",
    "                                     scoring=\"accuracy\", n_jobs= -1, verbose = 1)"
   ]
  },
  {
   "cell_type": "code",
   "execution_count": null,
   "id": "d1071dac",
   "metadata": {},
   "outputs": [],
   "source": [
    "modelgsGBC.fit(train_x,train_y)"
   ]
  },
  {
   "cell_type": "code",
   "execution_count": null,
   "id": "2f8e66c2",
   "metadata": {},
   "outputs": [],
   "source": [
    "#LR\n",
    "modelLR=LogisticRegression()\n",
    "LR_param_grid = {'C' : [1,2,3],\n",
    "                'penalty':['l1','l2']}\n",
    "modelgsLR = GridSearchCV(modelLR,param_grid = LR_param_grid, cv=kfold, \n",
    "                                     scoring=\"accuracy\", n_jobs= -1, verbose = 1)\n",
    "modelgsLR.fit(train_x,train_y)"
   ]
  },
  {
   "cell_type": "markdown",
   "id": "43b6d6de",
   "metadata": {},
   "source": [
    "## 5.2 Model score"
   ]
  },
  {
   "cell_type": "code",
   "execution_count": null,
   "id": "1ad134a0",
   "metadata": {},
   "outputs": [],
   "source": [
    "#modelgsGBC\n",
    "print('modelgsGBC score：%.3f'%modelgsGBC.best_score_)\n",
    "#modelgsLR模型\n",
    "print('modelgsLR score：%.3f'%modelgsLR.best_score_)"
   ]
  },
  {
   "cell_type": "code",
   "execution_count": null,
   "id": "99da9443",
   "metadata": {},
   "outputs": [],
   "source": [
    "#ROC curve\n",
    "#GBC\n",
    "GBC_train_y = modelgsGBC.predict(train_x).astype(int)\n",
    "\n",
    "from sklearn.metrics import roc_curve,auc\n",
    "fpr,tpr,threshold = roc_curve(train_y,GBC_train_y)\n",
    "roc_auc = auc(fpr,tpr)\n",
    "\n",
    "plt.figure()\n",
    "plt.figure(figsize = (10,10))\n",
    "plt.plot(fpr,tpr,color = 'r', lw=2, label = 'ROC curve (area = %0.3f)'%roc_auc)\n",
    "plt.plot([0,1], [0,1], color = 'navy', lw = 2, linestyle = '--')\n",
    "plt.xlim([0.0,1.0])\n",
    "plt.ylim([0.0,1.0])\n",
    "plt.xlabel('False Positive Rate')\n",
    "plt.ylabel('True Positive Rate')\n",
    "plt.title('Titanic GradientBoosting Classifier Model')\n",
    "plt.legend(loc = 'lower right')\n",
    "plt.show()\n",
    "\n",
    "LR_train_y = modelgsLR.predict(train_x).astype(int)\n",
    "\n",
    "fpr,tpr,threshold = roc_curve(train_y, LR_train_y)\n",
    "roc_auc = auc(fpr,tpr)\n",
    "plt.figure()\n",
    "plt.figure(figsize = (10,10))\n",
    "plt.plot(fpr,tpr,color = 'r',lw = 2, label = 'ROC curve (area = %0.3f)'%roc_auc)\n",
    "plt.plot([0,1], [0,1], color = 'navy', lw = 2, linestyle = '--')\n",
    "plt.xlim([0.0,1.0])\n",
    "plt.ylim([0.0,1.0])\n",
    "plt.xlabel('False Positive Rate')\n",
    "plt.ylabel('True Positive Rate')\n",
    "plt.title('Titanic Logistic Regression Classifier Model')\n",
    "plt.legend(loc = 'lower right')\n",
    "plt.show()"
   ]
  },
  {
   "cell_type": "markdown",
   "id": "47afafac",
   "metadata": {},
   "source": [
    "GBC model performs better than LR"
   ]
  },
  {
   "cell_type": "code",
   "execution_count": null,
   "id": "2bec0a76",
   "metadata": {},
   "outputs": [],
   "source": [
    "#Confusion matrix\n",
    "\n",
    "from sklearn.metrics import confusion_matrix\n",
    "print('GBC confusion matrix \\n',confusion_matrix(train_y.astype(int).astype(str),GBC_train_y.astype(int).astype(str)))\n",
    "print('LR confusion matrix \\n',confusion_matrix(train_y.astype(int).astype(str),LR_train_y.astype(int).astype(str)))"
   ]
  },
  {
   "cell_type": "code",
   "execution_count": null,
   "id": "0765737f",
   "metadata": {},
   "outputs": [],
   "source": [
    "tn, fp, fn, tp = confusion_matrix(train_y.astype(int).astype(str),GBC_train_y.astype(int).astype(str)).ravel()"
   ]
  },
  {
   "cell_type": "code",
   "execution_count": null,
   "id": "b3ffd5ed",
   "metadata": {},
   "outputs": [],
   "source": [
    "print('GBC precision = ',tp/(tp+fp))\n",
    "print('GBC specificity = ',tn/(tn+fp))"
   ]
  },
  {
   "cell_type": "code",
   "execution_count": null,
   "id": "c9f23399",
   "metadata": {},
   "outputs": [],
   "source": [
    "confusion_matrix(train_y.astype(int).astype(str),GBC_train_y.astype(int).astype(str)).ravel()"
   ]
  },
  {
   "cell_type": "code",
   "execution_count": null,
   "id": "77aaaeb7",
   "metadata": {},
   "outputs": [],
   "source": [
    "tn, fp, fn, tp = confusion_matrix(train_y.astype(int).astype(str),LR_train_y.astype(int).astype(str)).ravel()\n",
    "print('LR precision = ',tp/(tp+fp))\n",
    "print('LR specificity = ',tn/(tn+fp))"
   ]
  },
  {
   "cell_type": "markdown",
   "id": "8cd555c8",
   "metadata": {},
   "source": [
    "GBC has a higher precision, meaning that of all predicted survived cases, 85% are actual survivals\n",
    "GBC has a higher specificity, meaning that of all deaths, 91% are correctly identified by the model"
   ]
  },
  {
   "cell_type": "markdown",
   "id": "eca56419",
   "metadata": {},
   "source": [
    "# Prediction with GBC"
   ]
  },
  {
   "cell_type": "code",
   "execution_count": null,
   "id": "3ea22a10",
   "metadata": {},
   "outputs": [],
   "source": [
    "test_y = modelgsGBC.predict(test_x).astype(int)"
   ]
  },
  {
   "cell_type": "code",
   "execution_count": null,
   "id": "bacec47e",
   "metadata": {},
   "outputs": [],
   "source": [
    "#export result\n",
    "\n",
    "result = pd.DataFrame()\n",
    "result['PassengerId']=full['PassengerId'][full['Survived'].isnull()]\n",
    "result['Survived'] = test_y\n",
    "result.to_csv('/Users/jerryyileibao/Downloads/titanic_result.csv',index = False)"
   ]
  },
  {
   "cell_type": "code",
   "execution_count": null,
   "id": "751d306b",
   "metadata": {},
   "outputs": [],
   "source": []
  }
 ],
 "metadata": {
  "kernelspec": {
   "display_name": "Python 3",
   "language": "python",
   "name": "python3"
  },
  "language_info": {
   "codemirror_mode": {
    "name": "ipython",
    "version": 3
   },
   "file_extension": ".py",
   "mimetype": "text/x-python",
   "name": "python",
   "nbconvert_exporter": "python",
   "pygments_lexer": "ipython3",
   "version": "3.8.8"
  }
 },
 "nbformat": 4,
 "nbformat_minor": 5
}
